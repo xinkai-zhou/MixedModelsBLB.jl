{
 "cells": [
  {
   "cell_type": "markdown",
   "metadata": {},
   "source": [
    "# Quick Tutorial"
   ]
  },
  {
   "cell_type": "markdown",
   "metadata": {},
   "source": [
    "Consider the ```sleepstudy``` dataset (Belenky et al., 2003), which is from a sleep deprivation study that measured the average reaction time from 18 subjects over 10 days."
   ]
  },
  {
   "cell_type": "code",
   "execution_count": 6,
   "metadata": {},
   "outputs": [],
   "source": [
    "using MixedModelsBLB, CSV, StatsModels, Random, Ipopt"
   ]
  },
  {
   "cell_type": "code",
   "execution_count": 27,
   "metadata": {},
   "outputs": [
    {
     "data": {
      "text/html": [
       "<table class=\"data-frame\"><thead><tr><th></th><th>Reaction</th><th>Days</th><th>id</th></tr><tr><th></th><th>Float64</th><th>Int64</th><th>Int64</th></tr></thead><tbody><p>10 rows × 3 columns</p><tr><th>1</th><td>249.56</td><td>0</td><td>308</td></tr><tr><th>2</th><td>258.705</td><td>1</td><td>308</td></tr><tr><th>3</th><td>250.801</td><td>2</td><td>308</td></tr><tr><th>4</th><td>321.44</td><td>3</td><td>308</td></tr><tr><th>5</th><td>356.852</td><td>4</td><td>308</td></tr><tr><th>6</th><td>414.69</td><td>5</td><td>308</td></tr><tr><th>7</th><td>382.204</td><td>6</td><td>308</td></tr><tr><th>8</th><td>290.149</td><td>7</td><td>308</td></tr><tr><th>9</th><td>430.585</td><td>8</td><td>308</td></tr><tr><th>10</th><td>466.353</td><td>9</td><td>308</td></tr></tbody></table>"
      ],
      "text/latex": [
       "\\begin{tabular}{r|ccc}\n",
       "\t& Reaction & Days & id\\\\\n",
       "\t\\hline\n",
       "\t& Float64 & Int64 & Int64\\\\\n",
       "\t\\hline\n",
       "\t1 & 249.56 & 0 & 308 \\\\\n",
       "\t2 & 258.705 & 1 & 308 \\\\\n",
       "\t3 & 250.801 & 2 & 308 \\\\\n",
       "\t4 & 321.44 & 3 & 308 \\\\\n",
       "\t5 & 356.852 & 4 & 308 \\\\\n",
       "\t6 & 414.69 & 5 & 308 \\\\\n",
       "\t7 & 382.204 & 6 & 308 \\\\\n",
       "\t8 & 290.149 & 7 & 308 \\\\\n",
       "\t9 & 430.585 & 8 & 308 \\\\\n",
       "\t10 & 466.353 & 9 & 308 \\\\\n",
       "\\end{tabular}\n"
      ],
      "text/plain": [
       "10×3 DataFrame\n",
       "│ Row │ Reaction │ Days  │ id    │\n",
       "│     │ \u001b[90mFloat64\u001b[39m  │ \u001b[90mInt64\u001b[39m │ \u001b[90mInt64\u001b[39m │\n",
       "├─────┼──────────┼───────┼───────┤\n",
       "│ 1   │ 249.56   │ 0     │ 308   │\n",
       "│ 2   │ 258.705  │ 1     │ 308   │\n",
       "│ 3   │ 250.801  │ 2     │ 308   │\n",
       "│ 4   │ 321.44   │ 3     │ 308   │\n",
       "│ 5   │ 356.852  │ 4     │ 308   │\n",
       "│ 6   │ 414.69   │ 5     │ 308   │\n",
       "│ 7   │ 382.204  │ 6     │ 308   │\n",
       "│ 8   │ 290.149  │ 7     │ 308   │\n",
       "│ 9   │ 430.585  │ 8     │ 308   │\n",
       "│ 10  │ 466.353  │ 9     │ 308   │"
      ]
     },
     "execution_count": 27,
     "metadata": {},
     "output_type": "execute_result"
    }
   ],
   "source": [
    "sleepstudy = CSV.read(\"../../../test/data/sleepstudy.csv\");\n",
    "sleepstudy[1:10, :]"
   ]
  },
  {
   "cell_type": "markdown",
   "metadata": {},
   "source": [
    "To fit a Linear Mixed Model (LMM) of the form\n",
    "\n",
    "```math\n",
    "$$\\text{Reaction} ~ \\text{Days} + (1|\\text{ID})},$$\n",
    "```\n",
    "\n",
    "and perform statistical inference using the Bag of Little Bootstraps (BLB), we use the following code:"
   ]
  },
  {
   "cell_type": "code",
   "execution_count": 31,
   "metadata": {},
   "outputs": [],
   "source": [
    "blb_ests = blb_full_data(\n",
    "        MersenneTwister(1),\n",
    "        sleepstudy;\n",
    "        feformula   = @formula(Reaction ~ 1 + Days),\n",
    "        reformula   = @formula(Reaction ~ 1),\n",
    "        id_name     = \"id\", \n",
    "        cat_names   = Array{String,1}(), \n",
    "        subset_size = 10,\n",
    "        n_subsets   = 20, \n",
    "        n_boots     = 500,\n",
    "        solver      = Ipopt.IpoptSolver(print_level=0),\n",
    "        verbose     = false,\n",
    "        nonparametric_boot = true\n",
    "    );"
   ]
  },
  {
   "cell_type": "markdown",
   "metadata": {},
   "source": [
    "In this chunk,\n",
    "\n",
    "- ```MersenneTwister(1)``` sets the random seed for subsetting and resampling.\n",
    "- ```feformula``` and ```reformula``` specify the fixed and random effect formula, respectively.\n",
    "- ```id_name``` is the name of the grouping factor such as subject ID.\n",
    "- ```cat_names``` is a vector of categorical variable names. If there aren't any, simply set it as we did above. \n",
    "- ```subset_size```, ```n_subsets```, and ```n_boots``` are BLB parameters. Typically, we recommend setting\n",
    "    - ```subset_size``` = $N^{0.6}$ or $N^{0.7}$, where $N$ is the total number of subjects. \n",
    "    - ```n_subsets``` = 10-20.\n",
    "    - ```n_boots```   = 500-2000\n",
    "- [Ipopt](https://github.com/coin-or/Ipopt) is a freely-available gradient-based solver and works quite well. [Knitro](https://www.artelys.com/solvers/knitro/) is 3-5 times faster than Ipopt but requires a liscense (you might be eligible for an academic liscense).\n",
    "\n"
   ]
  },
  {
   "cell_type": "markdown",
   "metadata": {},
   "source": [
    "To see the result, type"
   ]
  },
  {
   "cell_type": "code",
   "execution_count": 30,
   "metadata": {},
   "outputs": [
    {
     "name": "stdout",
     "output_type": "stream",
     "text": [
      "Bag of Little Boostrap (BLB) for linear mixed models.\n",
      "Number of subsets: 20\n",
      "Number of grouping factors per subset: 10\n",
      "Number of bootstrap samples per subset: 500\n",
      "Confidence interval level: 95%\n",
      "\n",
      "Variance Components parameters\n",
      "─────────────────────────────────────────\n",
      "             Estimate  CI Lower  CI Upper\n",
      "─────────────────────────────────────────\n",
      "(Intercept)  1016.66    338.074   1752.28\n",
      "Residual      938.435   575.239   1367.96\n",
      "─────────────────────────────────────────\n",
      "\n",
      "Fixed-effect parameters\n",
      "──────────────────────────────────────────\n",
      "             Estimate   CI Lower  CI Upper\n",
      "──────────────────────────────────────────\n",
      "(Intercept)  253.803   241.482     265.762\n",
      "Days          10.4451    7.72668    13.102\n",
      "──────────────────────────────────────────"
     ]
    }
   ],
   "source": [
    "print(blb_ests)"
   ]
  },
  {
   "cell_type": "markdown",
   "metadata": {},
   "source": [
    "Results are displayed in two tables, showing the BLB estimates and confidence intervals for both fixed effect and variance components parameters. "
   ]
  },
  {
   "cell_type": "markdown",
   "metadata": {},
   "source": [
    "## Reference\n",
    "\n",
    "Gregory Belenky, Nancy J. Wesensten, David R. Thorne, Maria L. Thomas, Helen C. Sing, Daniel P. Redmond, Michael B. Russo and Thomas J. Balkin (2003) Patterns of performance degradation and restoration during sleep restriction and subsequent recovery: a sleep dose-response study. Journal of Sleep Research 12, 1–12."
   ]
  }
 ],
 "metadata": {
  "@webio": {
   "lastCommId": null,
   "lastKernelId": null
  },
  "kernelspec": {
   "display_name": "Julia 1.5.0",
   "language": "julia",
   "name": "julia-1.5"
  },
  "language_info": {
   "file_extension": ".jl",
   "mimetype": "application/julia",
   "name": "julia",
   "version": "1.5.0"
  }
 },
 "nbformat": 4,
 "nbformat_minor": 2
}
