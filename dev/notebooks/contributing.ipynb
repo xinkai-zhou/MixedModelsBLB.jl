{
 "cells": [
  {
   "cell_type": "markdown",
   "metadata": {},
   "source": [
    "# Contributing\n",
    "\n",
    "We'd welcome contributions to the MixedModelsBLB.jl package. \n",
    "\n",
    "If you don't know what you'd like to contribute, you could \n",
    "- take a look at the current [issues](https://github.com/xinkai-zhou/MixedModelsBLB.jl/issues) and pick one\n",
    "- add more usage examples.\n",
    "\n",
    "Then submit a pull request (PR). Let us know if it's a work in progress by putting [WIP] in the name of the PR."
   ]
  }
 ],
 "metadata": {
  "kernelspec": {
   "display_name": "Julia 1.6.2",
   "language": "julia",
   "name": "julia-1.6"
  },
  "language_info": {
   "file_extension": ".jl",
   "mimetype": "application/julia",
   "name": "julia",
   "version": "1.6.2"
  }
 },
 "nbformat": 4,
 "nbformat_minor": 2
}
