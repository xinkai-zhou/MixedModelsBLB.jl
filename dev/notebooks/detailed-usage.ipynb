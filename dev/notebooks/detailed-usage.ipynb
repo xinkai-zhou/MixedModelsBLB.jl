{
 "cells": [
  {
   "cell_type": "markdown",
   "metadata": {},
   "source": [
    "# Detailed Usage\n",
    "\n",
    "This page covers options you will need for dealing with extremely large longitudinal data sets and for forming estimates and confidence intervals of functions of the parameter estimates. "
   ]
  },
  {
   "cell_type": "markdown",
   "metadata": {},
   "source": [
    "## Data Input\n",
    "\n",
    "As shown in the [Quick Tutorial](quick-tutorial.md) section, data can be loaded in memory (RAM) as a ```DataFrame```. However, real-world longitudinal data such as Electronic Meidcal Records (EMR) may be too large to fit in RAM. \n",
    "\n",
    "Fortunately, since the Bag of Little Bootstrap (BLB) method operates on subsets rather than the full data set, we do not need to load the full data in RAM. By interfacing with a database, we stream in subsets that are relevant to the analysis and leave the rest of the data on the hard disk. \n",
    "\n",
    "To illustrate, we created a MySQL database called `MixedModelsBLB` on the local host and imported a simulated longitudinal data set with 1000 subjects and 20 measurements per subject to the `testdata` table. Covariates $x_1, x_2, x_3, z_1$ are simulated from standard normal. \n",
    "\n",
    "By providing a connection object, the `blb_db` function can interface with the database and only fetch data subsets that are relevant to the analysis. "
   ]
  },
  {
   "cell_type": "code",
   "execution_count": 11,
   "metadata": {},
   "outputs": [],
   "source": [
    "using MixedModelsBLB, StatsModels, Random, Ipopt, DBInterface, MySQL, DataFrames"
   ]
  },
  {
   "cell_type": "code",
   "execution_count": 12,
   "metadata": {},
   "outputs": [],
   "source": [
    "con = DBInterface.connect(MySQL.Connection, \"127.0.0.1\", \"USERNAME\", \"PASSWORD\"; db = \"MixedModelsBLB\");"
   ]
  },
  {
   "cell_type": "code",
   "execution_count": 20,
   "metadata": {},
   "outputs": [
    {
     "data": {
      "text/html": [
       "<table class=\"data-frame\"><thead><tr><th></th><th>id</th><th>y</th><th>x1</th><th>x2</th><th>x3</th><th>z1</th></tr><tr><th></th><th>Int32</th><th>Float64</th><th>Float64</th><th>Float64</th><th>Float64</th><th>Float64</th></tr></thead><tbody><p>10 rows × 6 columns</p><tr><th>1</th><td>1</td><td>-1.74387</td><td>-1.72976</td><td>-1.28905</td><td>-1.47062</td><td>-0.267067</td></tr><tr><th>2</th><td>1</td><td>1.23021</td><td>0.795949</td><td>-0.33527</td><td>-0.535211</td><td>1.49908</td></tr><tr><th>3</th><td>1</td><td>0.495366</td><td>0.670062</td><td>0.0704676</td><td>-0.963544</td><td>0.797304</td></tr><tr><th>4</th><td>1</td><td>1.79272</td><td>0.550852</td><td>0.341794</td><td>-1.38511</td><td>-0.17164</td></tr><tr><th>5</th><td>1</td><td>3.33667</td><td>-0.0633746</td><td>1.73517</td><td>0.1343</td><td>-0.46908</td></tr><tr><th>6</th><td>1</td><td>4.35921</td><td>1.33694</td><td>1.29992</td><td>-0.616117</td><td>0.217624</td></tr><tr><th>7</th><td>1</td><td>3.05776</td><td>-0.0731486</td><td>0.206364</td><td>-1.71999</td><td>0.359146</td></tr><tr><th>8</th><td>1</td><td>-0.493603</td><td>-0.745464</td><td>-1.00886</td><td>0.320769</td><td>0.320025</td></tr><tr><th>9</th><td>1</td><td>-1.31595</td><td>-1.22006</td><td>-0.850056</td><td>-1.44737</td><td>0.259216</td></tr><tr><th>10</th><td>1</td><td>-0.446968</td><td>-0.0531773</td><td>1.12941</td><td>-0.492271</td><td>0.459696</td></tr></tbody></table>"
      ],
      "text/latex": [
       "\\begin{tabular}{r|cccccc}\n",
       "\t& id & y & x1 & x2 & x3 & z1\\\\\n",
       "\t\\hline\n",
       "\t& Int32 & Float64 & Float64 & Float64 & Float64 & Float64\\\\\n",
       "\t\\hline\n",
       "\t1 & 1 & -1.74387 & -1.72976 & -1.28905 & -1.47062 & -0.267067 \\\\\n",
       "\t2 & 1 & 1.23021 & 0.795949 & -0.33527 & -0.535211 & 1.49908 \\\\\n",
       "\t3 & 1 & 0.495366 & 0.670062 & 0.0704676 & -0.963544 & 0.797304 \\\\\n",
       "\t4 & 1 & 1.79272 & 0.550852 & 0.341794 & -1.38511 & -0.17164 \\\\\n",
       "\t5 & 1 & 3.33667 & -0.0633746 & 1.73517 & 0.1343 & -0.46908 \\\\\n",
       "\t6 & 1 & 4.35921 & 1.33694 & 1.29992 & -0.616117 & 0.217624 \\\\\n",
       "\t7 & 1 & 3.05776 & -0.0731486 & 0.206364 & -1.71999 & 0.359146 \\\\\n",
       "\t8 & 1 & -0.493603 & -0.745464 & -1.00886 & 0.320769 & 0.320025 \\\\\n",
       "\t9 & 1 & -1.31595 & -1.22006 & -0.850056 & -1.44737 & 0.259216 \\\\\n",
       "\t10 & 1 & -0.446968 & -0.0531773 & 1.12941 & -0.492271 & 0.459696 \\\\\n",
       "\\end{tabular}\n"
      ],
      "text/plain": [
       "\u001b[1m10×6 DataFrame\u001b[0m\n",
       "\u001b[1m Row \u001b[0m│\u001b[1m id    \u001b[0m\u001b[1m y         \u001b[0m\u001b[1m x1         \u001b[0m\u001b[1m x2         \u001b[0m\u001b[1m x3        \u001b[0m\u001b[1m z1        \u001b[0m\n",
       "\u001b[1m     \u001b[0m│\u001b[90m Int32 \u001b[0m\u001b[90m Float64   \u001b[0m\u001b[90m Float64    \u001b[0m\u001b[90m Float64    \u001b[0m\u001b[90m Float64   \u001b[0m\u001b[90m Float64   \u001b[0m\n",
       "─────┼────────────────────────────────────────────────────────────────\n",
       "   1 │     1  -1.74387   -1.72976    -1.28905    -1.47062   -0.267067\n",
       "   2 │     1   1.23021    0.795949   -0.33527    -0.535211   1.49908\n",
       "   3 │     1   0.495366   0.670062    0.0704676  -0.963544   0.797304\n",
       "   4 │     1   1.79272    0.550852    0.341794   -1.38511   -0.17164\n",
       "   5 │     1   3.33667   -0.0633746   1.73517     0.1343    -0.46908\n",
       "   6 │     1   4.35921    1.33694     1.29992    -0.616117   0.217624\n",
       "   7 │     1   3.05776   -0.0731486   0.206364   -1.71999    0.359146\n",
       "   8 │     1  -0.493603  -0.745464   -1.00886     0.320769   0.320025\n",
       "   9 │     1  -1.31595   -1.22006    -0.850056   -1.44737    0.259216\n",
       "  10 │     1  -0.446968  -0.0531773   1.12941    -0.492271   0.459696"
      ]
     },
     "execution_count": 20,
     "metadata": {},
     "output_type": "execute_result"
    }
   ],
   "source": [
    "# Show the first 10 rows of the data set\n",
    "DBInterface.execute(con,  \"SELECT * FROM testdata LIMIT 10;\") |> DataFrame"
   ]
  },
  {
   "cell_type": "code",
   "execution_count": 14,
   "metadata": {},
   "outputs": [
    {
     "name": "stdout",
     "output_type": "stream",
     "text": [
      "\n",
      "******************************************************************************\n",
      "This program contains Ipopt, a library for large-scale nonlinear optimization.\n",
      " Ipopt is released as open source code under the Eclipse Public License (EPL).\n",
      "         For more information visit https://github.com/coin-or/Ipopt\n",
      "******************************************************************************\n",
      "\n"
     ]
    }
   ],
   "source": [
    "solver = Ipopt.IpoptSolver(print_level=0, max_iter=100, \n",
    "    mehrotra_algorithm = \"yes\", warm_start_init_point = \"yes\", \n",
    "    warm_start_bound_push = 1e-9)\n",
    "\n",
    "blb_ests = blb_db(\n",
    "        MersenneTwister(1),\n",
    "        con,\n",
    "        \"testdata\",\n",
    "        feformula   = @formula(y ~ 1 + x1 + x2 + x3),\n",
    "        reformula   = @formula(y ~ 1 + z1),\n",
    "        id_name     = \"id\", \n",
    "        cat_names   = Vector{String}(), \n",
    "        subset_size = 200,\n",
    "        n_subsets   = 10, \n",
    "        n_boots     = 500,\n",
    "        solver      = solver,\n",
    "        verbose     = false,\n",
    "        nonparametric_boot = true\n",
    "    );"
   ]
  },
  {
   "cell_type": "code",
   "execution_count": 15,
   "metadata": {},
   "outputs": [
    {
     "name": "stdout",
     "output_type": "stream",
     "text": [
      "Bag of Little Boostrap (BLB) for linear mixed models.\n",
      "Number of subsets: 10\n",
      "Number of grouping factors per subset: 200\n",
      "Number of bootstrap samples per subset: 500\n",
      "Confidence interval level: 95%\n",
      "\n",
      "Variance Components parameters\n",
      "─────────────────────────────────────────────────\n",
      "                    Estimate   CI Lower  CI Upper\n",
      "─────────────────────────────────────────────────\n",
      "(Intercept)       0.964051     0.881758  1.04793\n",
      "z1                3.1184       2.87197   3.37536\n",
      "(Intercept) : z1  0.00680443  -0.104531  0.120664\n",
      "Residual          1.46487      1.43443   1.4963\n",
      "─────────────────────────────────────────────────\n",
      "\n",
      "Fixed-effect parameters\n",
      "─────────────────────────────────────────\n",
      "             Estimate  CI Lower  CI Upper\n",
      "─────────────────────────────────────────\n",
      "(Intercept)  0.981893  0.919381   1.04176\n",
      "x1           1.01022   0.991362   1.02862\n",
      "x2           1.0158    0.997535   1.03386\n",
      "x3           0.989067  0.971957   1.00621\n",
      "─────────────────────────────────────────"
     ]
    }
   ],
   "source": [
    "print(blb_ests)"
   ]
  },
  {
   "cell_type": "markdown",
   "metadata": {},
   "source": [
    "## Parallel Processing\n",
    "\n",
    "Compared to the traditional bootstrap method, which needs to repeatedly access the full data during the resampling step, BLB is much easier to parallelize because once subsets are taken, the resampling step only needs to access the small subsets. As a result, if our machine has $N$ cores, then we can process $N$ subsets in parallel to drastically speed up the analysis. \n",
    "\n",
    "This can be achieved by first adding worker nodes as follows:"
   ]
  },
  {
   "cell_type": "code",
   "execution_count": 17,
   "metadata": {},
   "outputs": [
    {
     "data": {
      "text/plain": [
       "4-element Array{Int64,1}:\n",
       " 2\n",
       " 3\n",
       " 7\n",
       " 8"
      ]
     },
     "execution_count": 17,
     "metadata": {},
     "output_type": "execute_result"
    }
   ],
   "source": [
    "using Distributed\n",
    "addprocs(2) # Use addprocs(N) if your machine has N cores\n",
    "@everywhere using MixedModelsBLB\n",
    "workers()"
   ]
  },
  {
   "cell_type": "markdown",
   "metadata": {},
   "source": [
    "Then we run BLB with the following code. Note that it is the same code as above because `blb_full_data()` will automatically make use of the worker nodes that we have just made available."
   ]
  },
  {
   "cell_type": "code",
   "execution_count": 15,
   "metadata": {},
   "outputs": [
    {
     "name": "stdout",
     "output_type": "stream",
     "text": [
      "wks_schedule = [2, 3, 2, 3, 2, 3, 2, 3, 2, 3]\n",
      "      From worker 2:\t\n",
      "      From worker 2:\t******************************************************************************\n",
      "      From worker 2:\tThis program contains Ipopt, a library for large-scale nonlinear optimization.\n",
      "      From worker 2:\t Ipopt is released as open source code under the Eclipse Public License (EPL).\n",
      "      From worker 2:\t         For more information visit https://github.com/coin-or/Ipopt\n",
      "      From worker 2:\t******************************************************************************\n",
      "      From worker 2:\t\n",
      "      From worker 3:\t\n",
      "      From worker 3:\t******************************************************************************\n",
      "      From worker 3:\tThis program contains Ipopt, a library for large-scale nonlinear optimization.\n",
      "      From worker 3:\t Ipopt is released as open source code under the Eclipse Public License (EPL).\n",
      "      From worker 3:\t         For more information visit https://github.com/coin-or/Ipopt\n",
      "      From worker 3:\t******************************************************************************\n",
      "      From worker 3:\t\n"
     ]
    }
   ],
   "source": [
    "solver = Ipopt.IpoptSolver(print_level=0, max_iter=100, \n",
    "    mehrotra_algorithm = \"yes\", warm_start_init_point = \"yes\", \n",
    "    warm_start_bound_push = 1e-9)\n",
    "\n",
    "blb_ests = blb_full_data(\n",
    "        MersenneTwister(1),\n",
    "        dat;\n",
    "        feformula   = @formula(y ~ 1 + x1 + x2 + x3),\n",
    "        reformula   = @formula(y ~ 1 + x1),\n",
    "        id_name     = \"id\", \n",
    "        cat_names   = [\"x3\"], \n",
    "        subset_size = 100,\n",
    "        n_subsets   = 10, \n",
    "        n_boots     = 500,\n",
    "        solver      = solver,\n",
    "        verbose     = false,\n",
    "        nonparametric_boot = true\n",
    "    );"
   ]
  },
  {
   "cell_type": "code",
   "execution_count": 16,
   "metadata": {},
   "outputs": [
    {
     "name": "stdout",
     "output_type": "stream",
     "text": [
      "Bag of Little Boostrap (BLB) for linear mixed models.\n",
      "Number of subsets: 10\n",
      "Number of grouping factors per subset: 200\n",
      "Number of bootstrap samples per subset: 200\n",
      "Confidence interval level: 95%\n",
      "\n",
      "Variance Components parameters\n",
      "───────────────────────────────────────────────\n",
      "                  Estimate   CI Lower  CI Upper\n",
      "───────────────────────────────────────────────\n",
      "(Intercept)       0.97719   0.891017   1.06351\n",
      "x1                1.1049    0.996983   1.21472\n",
      "(Intercept) : x1  0.106918  0.0379043  0.175623\n",
      "Residual          1.0097    0.979607   1.03991\n",
      "───────────────────────────────────────────────\n",
      "\n",
      "Fixed-effect parameters\n",
      "────────────────────────────────────────────\n",
      "              Estimate    CI Lower  CI Upper\n",
      "────────────────────────────────────────────\n",
      "(Intercept)  1.05446     0.962949   1.14765\n",
      "x1           0.941411    0.875429   1.00897\n",
      "x2           0.999205    0.976363   1.0208\n",
      "x3: M        0.0289467  -0.0967177  0.155865\n",
      "────────────────────────────────────────────"
     ]
    }
   ],
   "source": [
    "print(blb_ests)"
   ]
  },
  {
   "cell_type": "markdown",
   "metadata": {},
   "source": [
    "Note that the results are slightly different from above. This is because using multiple workers affect the random seeds used for subsetting and resampling, so the difference is due to sampling variability and will become smaller if we increase the number of subsets or the number of bootstrap samples."
   ]
  },
  {
   "cell_type": "markdown",
   "metadata": {},
   "source": [
    "## Customized Confidence Intervals\n",
    "\n",
    "If you are interested in getting the confidence intervals of some functions of the parameters, you can construct it using the estimates stored in the output of `blb_full_data()`. \n",
    "\n",
    "To illustrate, suppose we want to calculate the 95% confidence interval of the Intra-class Correlation Coefficient (ICC). This can be done by calculating the 95% percentile CIs from all subsets and then average them across subsets. "
   ]
  },
  {
   "cell_type": "code",
   "execution_count": 37,
   "metadata": {},
   "outputs": [],
   "source": [
    "using LinearAlgebra, StatsBase\n",
    "icc   = zeros(200, 10)\n",
    "level = 0.95\n",
    "\n",
    "# Calculate ICC\n",
    "for j in 1:10\n",
    "    for i in 1:200\n",
    "        # ICC = σa² / (σa² + σe²)\n",
    "        icc[i, j] = blb_ests.all_estimates[j].Σs[:, :, i][1, 1] / sum(diag(blb_ests.all_estimates[j].Σs[:, :, i]))\n",
    "    end\n",
    "end"
   ]
  },
  {
   "cell_type": "code",
   "execution_count": 38,
   "metadata": {},
   "outputs": [],
   "source": [
    "# Calculate the 95% CIs on 10 subsets\n",
    "CIs = zeros(10, 2)\n",
    "for j in 1:10\n",
    "    CIs[j, :] = StatsBase.percentile(icc[:, j], 100 * [(1 - level) / 2, 1 - (1-level) / 2])\n",
    "end"
   ]
  },
  {
   "cell_type": "code",
   "execution_count": 42,
   "metadata": {},
   "outputs": [
    {
     "data": {
      "text/plain": [
       "1×2 Array{Float64,2}:\n",
       " 0.435465  0.500777"
      ]
     },
     "execution_count": 42,
     "metadata": {},
     "output_type": "execute_result"
    }
   ],
   "source": [
    "# Calculate the BLB CI by averaging CIs across subsets\n",
    "mean(CIs, dims = 1)"
   ]
  },
  {
   "cell_type": "markdown",
   "metadata": {},
   "source": [
    "## Tips"
   ]
  },
  {
   "cell_type": "markdown",
   "metadata": {},
   "source": [
    "### Ipopt\n",
    "\n",
    "By setting a higher `print_level`, you may notice that Ipopt performs lots of line searches. One way to remedy it and to speed up your analysis is to set `mehrotra_algorithm=\"yes\"`, which disables line search. The option `mu_strategy=\"adaptive\"` may also be helpful.\n",
    "\n",
    "### Categorical Variables\n",
    "\n",
    "To make sure that we do not miss any values of a categorical variable in a subset, `blb_full_data()` performs checking once a subset is taken. If a subset fails to contain certain values, then a new subset is taken and this step is repeated until we find a valid subset. \n",
    "\n",
    "This works as long as all values are relatively common. If a certain value is scarce, however, then it may take a long time to get a valid subset. In such cases, we recommend grouping the values into fewer categories. "
   ]
  },
  {
   "cell_type": "code",
   "execution_count": null,
   "metadata": {},
   "outputs": [],
   "source": []
  }
 ],
 "metadata": {
  "@webio": {
   "lastCommId": null,
   "lastKernelId": null
  },
  "kernelspec": {
   "display_name": "Julia 1.5.0",
   "language": "julia",
   "name": "julia-1.5"
  },
  "language_info": {
   "file_extension": ".jl",
   "mimetype": "application/julia",
   "name": "julia",
   "version": "1.5.0"
  }
 },
 "nbformat": 4,
 "nbformat_minor": 2
}
